{
 "cells": [
  {
   "cell_type": "code",
   "execution_count": 13,
   "id": "6589ce92",
   "metadata": {},
   "outputs": [],
   "source": [
    "# 1. Import thư viện\n",
    "from pyexpat import model\n",
    "import pandas as pd\n",
    "import numpy as np\n",
    "from sklearn.model_selection import train_test_split\n",
    "from sklearn.preprocessing import StandardScaler\n",
    "from sklearn.metrics import mean_squared_error, r2_score\n",
    "from xgboost import XGBRegressor\n",
    "from sklearn.model_selection import GridSearchCV\n",
    "import matplotlib.pyplot as plt\n",
    "import seaborn as sns   \n",
    "# 2. Đọc dữ liệu\n",
    "df = pd.read_csv(r\"C:\\Users\\tranq\\Downloads\\weather_cleaned.csv\")"
   ]
  },
  {
   "cell_type": "code",
   "execution_count": 14,
   "id": "d717dc76",
   "metadata": {},
   "outputs": [],
   "source": [
    "# 2. Chọn đặc trưng\n",
    "features = [\n",
    "    'province', 'year', 'month', 'day', 'wind', 'humidi', 'cloud',\n",
    "    'rain_1', 'rain_2', 'rain_3', 'rain_7',\n",
    "    'rain_mean_3d', 'rain_mean_7d', 'rain_mean_10d', 'rain_mean_14d',\n",
    "    'avg_temp', 'temp_range', 'season', 'wind_d', 'region'\n",
    "]\n",
    "X = df[features]\n",
    "y = df['rain']\n",
    "\n",
    "scaler = StandardScaler()\n",
    "X_scaled = scaler.fit_transform(X)\n",
    "\n",
    "# log1p:\n",
    "y_log = np.log1p(y)\n",
    "\n",
    "# Chia dữ liệu\n",
    "X_train, X_test, y_train_log, y_test_log = train_test_split(X, y_log, test_size=0.2, random_state=42)\n",
    "\n",
    "# Tính sample_weight\n",
    "sample_weight = np.where(np.expm1(y_train_log) > 10, 2.0, 1.0)\n",
    "\n",
    "# Khôi phục giá trị thực sau log1p để đánh giá \n",
    "y_test_mm = np.expm1(y_test_log)"
   ]
  },
  {
   "cell_type": "code",
   "execution_count": 15,
   "id": "462e8780",
   "metadata": {},
   "outputs": [
    {
     "name": "stdout",
     "output_type": "stream",
     "text": [
      " XGBoost RMSE: 10.94 mm | R²: 0.9317\n",
      " Train RMSE: 8.87 | Train R²: 0.9483\n",
      " Inference time: 0.0120 giây cho 32502 mẫu (~0.000000 giây/mẫu)\n",
      "\n",
      " So sánh thực tế vs dự đoán (10 dòng đầu):\n",
      "Thực tế:   1.70 mm | Dự đoán:   1.73 mm\n",
      "Thực tế:   0.00 mm | Dự đoán:   0.04 mm\n",
      "Thực tế:  37.00 mm | Dự đoán:  39.34 mm\n",
      "Thực tế:   1.20 mm | Dự đoán:   1.13 mm\n",
      "Thực tế:   0.30 mm | Dự đoán:   0.44 mm\n",
      "Thực tế:  15.10 mm | Dự đoán:  14.94 mm\n",
      "Thực tế:   2.40 mm | Dự đoán:   2.14 mm\n",
      "Thực tế:   0.00 mm | Dự đoán:  -0.00 mm\n",
      "Thực tế:   0.20 mm | Dự đoán:   0.14 mm\n",
      "Thực tế:   6.50 mm | Dự đoán:   6.36 mm\n"
     ]
    }
   ],
   "source": [
    "import time\n",
    "\n",
    "# Mô hình XGBoost\n",
    "# Khởi tạo \n",
    "model = XGBRegressor(\n",
    "    n_estimators=300,\n",
    "    max_depth=5,\n",
    "    learning_rate=0.05,\n",
    "    subsample=0.8,\n",
    "    colsample_bytree=0.8,\n",
    "    reg_lambda=1.0,\n",
    "    reg_alpha=0.5,\n",
    "    random_state=42\n",
    ")\n",
    "# Huấn luyện mô hình\n",
    "model.fit(X_train, y_train_log, sample_weight=sample_weight)\n",
    "\n",
    "# Dự đoán trên tập test\n",
    "start = time.time()\n",
    "y_pred_log_xgb = model.predict(X_test)\n",
    "inference_time = time.time() - start\n",
    "\n",
    "# Chuyển dự đoán về đơn vị mm \n",
    "y_pred_mm_xgb = np.expm1(y_pred_log_xgb)\n",
    "y_test_mm_xgb = np.expm1(y_test_log)\n",
    "\n",
    "\n",
    "# Chỉ số đánh giá \n",
    "rmse_xgb = mean_squared_error(y_test_mm, y_pred_mm_xgb)\n",
    "r2_xgb = r2_score(y_test_mm, y_pred_mm_xgb)\n",
    "\n",
    "# Dự đoán tập train để so sánh overfit\n",
    "y_train_pred_log = model.predict(X_train)\n",
    "y_train_pred_mm = np.expm1(y_train_pred_log)\n",
    "train_rmse = mean_squared_error(np.expm1(y_train_log), y_train_pred_mm)\n",
    "train_r2 = r2_score(np.expm1(y_train_log), y_train_pred_mm)\n",
    "\n",
    "# In kết quả\n",
    "print(f\" XGBoost RMSE: {rmse_xgb:.2f} mm | R²: {r2_xgb:.4f}\")\n",
    "print(f\" Train RMSE: {train_rmse:.2f} | Train R²: {train_r2:.4f}\")\n",
    "print(f\" Inference time: {inference_time:.4f} giây cho {len(X_test)} mẫu (~{inference_time/len(X_test):.6f} giây/mẫu)\")\n",
    "\n",
    "# So sánh thực tế vs dự đoán\n",
    "print(\"\\n So sánh thực tế vs dự đoán (10 dòng đầu):\")\n",
    "for true_val, pred_val in zip(y_test_mm[:10], y_pred_mm_xgb[:10]):\n",
    "    print(f\"Thực tế: {true_val:6.2f} mm | Dự đoán: {pred_val:6.2f} mm\")\n"
   ]
  },
  {
   "cell_type": "code",
   "execution_count": 16,
   "id": "20a1964f",
   "metadata": {},
   "outputs": [
    {
     "name": "stdout",
     "output_type": "stream",
     "text": [
      " Random Forest RMSE: 5.21 mm | R²: 0.8309\n",
      " Train RMSE: 5.55 | R²: 0.8206 \n",
      " Inference time: 0.1238 giây cho 32502 mẫu (~0.000004 giây/mẫu)\n",
      "\n",
      " So sánh thực tế vs dự đoán (10 dòng đầu):\n",
      "Thực tế:   1.70 mm | Dự đoán:   2.29 mm\n",
      "Thực tế:   0.00 mm | Dự đoán:   0.00 mm\n",
      "Thực tế:  37.00 mm | Dự đoán:  28.64 mm\n",
      "Thực tế:   1.20 mm | Dự đoán:   1.20 mm\n",
      "Thực tế:   0.30 mm | Dự đoán:   0.20 mm\n",
      "Thực tế:  15.10 mm | Dự đoán:  13.18 mm\n",
      "Thực tế:   2.40 mm | Dự đoán:   2.30 mm\n",
      "Thực tế:   0.00 mm | Dự đoán:   0.00 mm\n",
      "Thực tế:   0.20 mm | Dự đoán:   0.29 mm\n",
      "Thực tế:   6.50 mm | Dự đoán:   6.24 mm\n"
     ]
    }
   ],
   "source": [
    "from sklearn.ensemble import RandomForestRegressor\n",
    "from sklearn.metrics import mean_squared_error, r2_score\n",
    "import numpy as np\n",
    "import time\n",
    "\n",
    "# Mô hình Random Forest\n",
    "# Khởi tạo mô hình \n",
    "rf_model = RandomForestRegressor(\n",
    "    n_estimators=500,\n",
    "    max_depth=7,\n",
    "    min_samples_split=5,\n",
    "    min_samples_leaf=2,\n",
    "    random_state=42,\n",
    "    n_jobs=-1\n",
    ")\n",
    "\n",
    "# Huấn luyện mô hình\n",
    "rf_model.fit(X_train, y_train_log, sample_weight=sample_weight)\n",
    "\n",
    "# Dự đoán trên tập test\n",
    "start_time = time.time()\n",
    "y_pred_log_rf = rf_model.predict(X_test)\n",
    "inference_time = time.time() - start_time\n",
    "\n",
    "# Chuyển đổi dự đoán về đơn vị mm\n",
    "y_pred_mm_rf = np.expm1(y_pred_log_rf)\n",
    "y_test_mm_rf = np.expm1(y_test_log)\n",
    "\n",
    "# Đánh giá & hiển thị \n",
    "rmse_rf = mean_squared_error(y_test_mm_rf, y_pred_mm_rf)**0.5\n",
    "r2_rf = r2_score(y_test_mm_rf, y_pred_mm_rf)\n",
    "\n",
    "# Dự đoán tập train để so sánh overfit\n",
    "y_train_pred = np.expm1(rf_model.predict(X_train))\n",
    "y_train_true = np.expm1(y_train_log)\n",
    "train_rmse_rf = mean_squared_error(y_train_true, y_train_pred)**0.5\n",
    "train_r2_rf = r2_score(y_train_true, y_train_pred)\n",
    "\n",
    "# In kết quả\n",
    "print(f\" Random Forest RMSE: {rmse_rf:.2f} mm | R²: {r2_rf:.4f}\")\n",
    "print(f\" Train RMSE: {train_rmse_rf:.2f} | R²: {train_r2_rf:.4f} \")\n",
    "print(f\" Inference time: {inference_time:.4f} giây cho {len(X_test)} mẫu (~{inference_time/len(X_test):.6f} giây/mẫu)\")\n",
    "\n",
    "# So sánh thực tế vs dự đoán\n",
    "print(\"\\n So sánh thực tế vs dự đoán (10 dòng đầu):\")\n",
    "for i, (true_val, pred_val) in enumerate(zip(y_test_mm[:10], y_pred_mm_rf[:10])):\n",
    "    print(f\"Thực tế: {true_val:6.2f} mm | Dự đoán: {pred_val:6.2f} mm\")\n"
   ]
  },
  {
   "cell_type": "code",
   "execution_count": 17,
   "id": "c5df4763",
   "metadata": {},
   "outputs": [
    {
     "data": {
      "text/plain": [
       "['scaler.pkl']"
      ]
     },
     "execution_count": 17,
     "metadata": {},
     "output_type": "execute_result"
    }
   ],
   "source": [
    "import joblib\n",
    "# Giả sử bạn có mô hình XGBoost đã huấn luyện tên là model\n",
    "joblib.dump(model, \"rain_model_xgb.pkl\")\n",
    "joblib.dump(scaler, \"scaler.pkl\")"
   ]
  },
  {
   "cell_type": "code",
   "execution_count": 18,
   "id": "295a9124",
   "metadata": {},
   "outputs": [
    {
     "data": {
      "image/png": "[encoded data removed]",
      "text/plain": [
       "<Figure size 640x480 with 1 Axes>"
      ]
     },
     "metadata": {},
     "output_type": "display_data"
    }
   ],
   "source": [
    "\n",
    "# Lưu lại RMSE và R2 test cho từng mô hình\n",
    "rmse_rf = rmse_rf\n",
    "r2_rf = r2_rf\n",
    "rmse_xgb = rmse_xgb\n",
    "r2_xgb = r2_xgb\n",
    "      \n",
    "\n",
    "import matplotlib.pyplot as plt\n",
    "import numpy as np\n",
    "\n",
    "models = [\"Random Forest\", \"XGBoost\"]\n",
    "rmse_values = [rmse_rf, rmse_xgb]\n",
    "r2_values = [r2_rf, r2_xgb]\n",
    "\n",
    "x = np.arange(len(models))\n",
    "width = 0.35\n",
    "\n",
    "fig, ax = plt.subplots()\n",
    "ax.bar(x - width/2, rmse_values, width, label=\"RMSE\")\n",
    "ax.bar(x + width/2, r2_values, width, label=\"R²\")\n",
    "\n",
    "ax.set_ylabel(\"Giá trị\")\n",
    "ax.set_title(\"So sánh hiệu năng mô hình\")\n",
    "ax.set_xticks(x)\n",
    "ax.set_xticklabels(models)\n",
    "ax.legend()\n",
    "plt.tight_layout()\n",
    "plt.show()\n"
   ]
  }
 ],
 "metadata": {
  "kernelspec": {
   "display_name": "Python 3",
   "language": "python",
   "name": "python3"
  },
  "language_info": {
   "codemirror_mode": {
    "name": "ipython",
    "version": 3
   },
   "file_extension": ".py",
   "mimetype": "text/x-python",
   "name": "python",
   "nbconvert_exporter": "python",
   "pygments_lexer": "ipython3",
   "version": "3.12.6"
  }
 },
 "nbformat": 4,
 "nbformat_minor": 5
}
